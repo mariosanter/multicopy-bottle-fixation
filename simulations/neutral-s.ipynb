{
 "cells": [
  {
   "attachments": {},
   "cell_type": "markdown",
   "metadata": {},
   "source": [
    "# Neutral simulations (Figure 1D)"
   ]
  },
  {
   "attachments": {},
   "cell_type": "markdown",
   "metadata": {},
   "source": [
    "## Import libraries and load data"
   ]
  },
  {
   "cell_type": "code",
   "execution_count": null,
   "metadata": {},
   "outputs": [],
   "source": [
    "import numpy as np\n",
    "import module\n",
    "import plot\n",
    "import pandas as pd\n",
    "import matplotlib\n",
    "import matplotlib.pyplot as plt\n",
    "from matplotlib.lines import Line2D\n",
    "from matplotlib.offsetbox import AnchoredOffsetbox, TextArea, HPacker\n",
    "import pickle\n",
    "import itertools\n",
    "import re\n",
    "import json\n",
    "from colour import Color"
   ]
  },
  {
   "attachments": {},
   "cell_type": "markdown",
   "metadata": {},
   "source": [
    "Load experimental data from file"
   ]
  },
  {
   "cell_type": "code",
   "execution_count": null,
   "metadata": {},
   "outputs": [],
   "source": [
    "dataset = pd.read_excel(\"expdata/plasmid-exp.xlsx\", header=0)\n",
    "dataset.head()"
   ]
  },
  {
   "attachments": {},
   "cell_type": "markdown",
   "metadata": {},
   "source": [
    "Get carrying capacities"
   ]
  },
  {
   "cell_type": "code",
   "execution_count": null,
   "metadata": {},
   "outputs": [],
   "source": [
    "Nc=pd.read_csv('expdata/Nc_plasmid.csv', index_col=0).squeeze()\n",
    "print('Carrying capacities loaded')"
   ]
  },
  {
   "cell_type": "code",
   "execution_count": null,
   "metadata": {},
   "outputs": [],
   "source": [
    "Nc_all=[]\n",
    "for i in range(6):\n",
    "    Nc=np.array(\n",
    "        dataset.loc[(dataset['replicate']==1 \n",
    "        * (dataset['replicate.n']==i+1)),['total_pop']])[:,0]\n",
    "    Nc_all.append(Nc)\n",
    "\n",
    "D=min([len(Nc_all[i]) for i in range(len(Nc_all))])-1\n",
    "print('Carrying capacities loaded: (day=1-'+str(D)+',rep1,..,rep6)')\n",
    "\n",
    "t=np.array(range(1,D+1))\n",
    "Nc_all=[Nc_all[i][1:D+1] for i in range(len(Nc_all))]\n",
    "\n",
    "np.set_printoptions(precision=3)\n",
    "print(np.vstack((t,Nc_all)).T)\n"
   ]
  },
  {
   "attachments": {},
   "cell_type": "markdown",
   "metadata": {},
   "source": [
    "## Simulation"
   ]
  },
  {
   "attachments": {},
   "cell_type": "markdown",
   "metadata": {},
   "source": [
    "Initialise parameter sets:  \n",
    "10 simulations with regular replication  \n",
    "10 simulations with random replication "
   ]
  },
  {
   "cell_type": "code",
   "execution_count": null,
   "metadata": {},
   "outputs": [],
   "source": [
    "path=\"./\"\n",
    "rwt_list=[1,1+.01,1+.02,1+.03,1+.04,1+.05]\n",
    "seed_list=list(range(10))\n",
    "l=list(itertools.product(rwt_list,seed_list))\n",
    "\n",
    "def parset(par):\n",
    "    rwt,seed=par\n",
    "    return {\"rwt\":rwt,\"seed\":seed,\n",
    "                \"Nc\":Nc[1:30+1].tolist(),\n",
    "            \"file\": path+\"neutral-s_data/\"+re.sub('[^a-zA-Z0-9_]','_',\n",
    "                '_'.join(map(str,\n",
    "                (\"rwt\",rwt,\"seed\",seed))))\n",
    "                if rwt!=1 else\n",
    "                path+\"neutral_data/\"+re.sub('[^a-zA-Z0-9_]','_',\n",
    "                '_'.join(map(str,\n",
    "                (\"rep_reg\",\"seed\",seed))))\n",
    "        }\n",
    "parsets=list(map(parset,l))\n",
    "print(len(parsets), \"parameter combinations initialised.\" )\n",
    "print(\"First parameter combination example:\" )\n",
    "parsets[0]\n"
   ]
  },
  {
   "attachments": {},
   "cell_type": "markdown",
   "metadata": {},
   "source": [
    "Test simulation for single parameter combination"
   ]
  },
  {
   "cell_type": "code",
   "execution_count": null,
   "metadata": {},
   "outputs": [],
   "source": [
    "parset=parsets[10]\n",
    "print(parset)\n",
    "print(parset['file'])\n",
    "sim=module.stochbottleSim(n=15,D=30,d0=1,swb=False,**parset,verbose=True)\n",
    "plot.plot_interdays(sim);"
   ]
  },
  {
   "attachments": {},
   "cell_type": "markdown",
   "metadata": {},
   "source": [
    "Run simulation for all other parameter combinations "
   ]
  },
  {
   "cell_type": "code",
   "execution_count": null,
   "metadata": {},
   "outputs": [],
   "source": [
    "# runtime ca ?\n",
    "for i in range(11,60):\n",
    "    sim=module.stochbottleSim(n=15,D=30,d0=1,swb=False,**parsets[i])\n",
    "    print('Simulation no. ', i, '/59 finished')"
   ]
  },
  {
   "attachments": {},
   "cell_type": "markdown",
   "metadata": {},
   "source": [
    "Load simulation results from files "
   ]
  },
  {
   "cell_type": "code",
   "execution_count": null,
   "metadata": {},
   "outputs": [],
   "source": [
    "def parsetwoseedfile(par):\n",
    "    rwt=par[0]\n",
    "    return {\"rwt\":rwt}    \n",
    "\n",
    "l=list(itertools.product(rwt_list))\n",
    "parsetswoseedfile=list(map(parsetwoseedfile,l))\n",
    "\n",
    "def loadparsetsim(parset):\n",
    "    fn=parset[\"file\"]\n",
    "    print(fn)\n",
    "    try:\n",
    "        sim=pickle.load(open(fn,'rb+'))\n",
    "\n",
    "    except:\n",
    "        print('file not found', fn)\n",
    "        sim=None\n",
    "    return sim\n",
    "\n",
    "parameters=[{k:parsets[i][k] for k in parsets[i] if k!='seed' and k!='file' and k!='Nc' and k!='Npop'} for i in range(len(parsets))]\n",
    "sims_allpar=[]\n",
    "\n",
    "for i in range(len(parsetswoseedfile)):\n",
    "    parameter=parsetswoseedfile[i]\n",
    "    print(parameter)\n",
    "    sims=[loadparsetsim(parsets[i]) \n",
    "            for i in range(len(parsets)) if parameters[i]==parameter]\n",
    "    sims=[sims[i] for i in range(len(sims)) if sims[i]!=None]\n",
    "    sims_allpar.append(sims)\n",
    "    print(\"parameters: \", parameter,\" \", len(sims), \" simulations loaded\")\n"
   ]
  },
  {
   "attachments": {},
   "cell_type": "markdown",
   "metadata": {},
   "source": [
    "Plot all simulation replicates "
   ]
  },
  {
   "cell_type": "code",
   "execution_count": null,
   "metadata": {},
   "outputs": [],
   "source": [
    "for i in range(len(parsetswoseedfile)):\n",
    "    parameter=parsetswoseedfile[i]\n",
    "    sims=sims_allpar[i]\n",
    "\n",
    "    title=json.dumps(parameter)\n",
    "    fig,ax=plt.subplots()\n",
    "    for i in range(len(sims)):\n",
    "        plot.plot_interdays(sims[i],figax=(fig,ax),title=title+', nsim'+str(len(sims)) )\n",
    "\n",
    "    title=re.sub('[^a-zA-Z0-9]','_',title)\n",
    "    title=re.sub('_{2,}','_',title)\n",
    "    print(title,end=', ')\n",
    "    print(str(len(sims))+' simulations found.')\n",
    "\n"
   ]
  },
  {
   "attachments": {},
   "cell_type": "markdown",
   "metadata": {},
   "source": [
    "## Results"
   ]
  },
  {
   "cell_type": "code",
   "execution_count": null,
   "metadata": {},
   "outputs": [],
   "source": [
    "# define function to load time series of experimental data\n",
    "def gettimeseries_exp(replicate):\n",
    "    data_reps=[]\n",
    "\n",
    "    for ir in range(1,6+1):\n",
    "        data = dataset.loc[(dataset['replicate']==replicate),['t','homo_freq','hetero_freq','replicate.n','host_freq']]\n",
    "        data\n",
    "        data_rep = data.loc[((data['replicate.n']==ir) ),['t','homo_freq','hetero_freq','host_freq']]\n",
    "        data_reps.append(data_rep)\n",
    "\n",
    "    return replicate,data_reps"
   ]
  },
  {
   "attachments": {},
   "cell_type": "markdown",
   "metadata": {},
   "source": [
    "Plot comparison of mean simulation data and experimental replicate data (Figure 1D)"
   ]
  },
  {
   "cell_type": "code",
   "execution_count": null,
   "metadata": {},
   "outputs": [],
   "source": [
    "matplotlib.rcParams.update({'font.size': 8})\n",
    "\n",
    "colorgreen='#008080' # colors from Fig 1A GFP (green) and nptII (red) respectively\n",
    "colorred='#c83771'\n",
    "alphared=0.5\n",
    "\n",
    "fig,ax=plt.subplots(figsize=(7.5/2.54,5/2.54))\n",
    "ax.set_position(pos=(0.23,0.2,0.75,0.75))\n",
    "replicate,data_reps=gettimeseries_exp(1)\n",
    "ls=['solid','solid','solid','solid','solid']\n",
    "\n",
    "colorred1=Color(colorred)\n",
    "print(colorred1.saturation)\n",
    "colorred1.saturation=.45\n",
    "colorred2=Color(colorred)\n",
    "colorred2.saturation=.35\n",
    "colorred3=Color(colorred)\n",
    "colorred3.saturation=.25\n",
    "colorred4=Color(colorred)\n",
    "colorred4.saturation=.1\n",
    "colorred5=Color(colorred)\n",
    "colorred5.saturation=.0\n",
    "la=['s=0.0','s=-0.01','s=-0.02','s=-0.03','s=-0.04','s=-0.05']\n",
    "cl=[colorred,colorred1.hex,colorred2.hex,colorred3.hex,colorred4.hex,colorred5.hex]\n",
    "\n",
    "hetero_freq=[]\n",
    "for i in range(6):\n",
    "    plt.plot(data_reps[i][\"t\"][1:],data_reps[i][\"homo_freq\"][1:],'.-',fillstyle='full',color=colorred,alpha=.3*alphared,linewidth=.4,markersize=1, zorder=-1)\n",
    "    hetero_freq.append(np.array(data_reps[i][\"hetero_freq\"][:]))\n",
    "    # plt.plot(data_reps[i][\"t\"][1:],data_reps[i][\"hetero_freq\"][1:],'.-',fillstyle='full',color=colorgreen,alpha=.3*1,linewidth=.4,markersize=1, zorder=1)\n",
    "hetero_freq_median=np.median(hetero_freq,axis=0)\n",
    "\n",
    "la=['0.00','-0.01','-0.02','-0.03','-0.04','-0.05']\n",
    "ls=['solid','dotted']  \n",
    "zo=[0,-1]\n",
    "\n",
    "for i in range(0,5+1):\n",
    "    parameter=parsetswoseedfile[i]\n",
    "\n",
    "    ts_eod=np.array([sims_allpar[i][j][1] for j in range(len(sims_allpar[i]))])\n",
    "    ts_eod_het_freq=np.sum(ts_eod[:,:,1:-1], axis=-1)/np.sum(ts_eod,axis=-1)\n",
    "    ts_eod_het_freq_median=np.median(ts_eod_het_freq,axis=0)\n",
    "    q_het=np.quantile(ts_eod_het_freq,q=[.25,.75], axis=0)\n",
    "\n",
    "    ts_eod_hom_freq=np.sum(ts_eod[:,:,-1:], axis=-1)/np.sum(ts_eod,axis=-1)\n",
    "    ts_eod_hom_freq_median=np.median(ts_eod_hom_freq,axis=0)\n",
    "    q_hom=np.quantile(ts_eod_hom_freq,q=[.25,.75], axis=0)\n",
    "\n",
    "    label=''\n",
    "    plt.plot(range(1,ts_eod.shape[1]+1),ts_eod_hom_freq_median,\n",
    "        color=cl[i],fillstyle='none',linestyle='solid',linewidth=2, marker=None,alpha=alphared,label=la[i])\n",
    "    # plt.plot(range(1,ts_eod.shape[1]+1),ts_eod_het_freq_median,\n",
    "    #     color=cl[i],fillstyle='none',linestyle=ls[i],linewidth=2, marker=None,alpha=1.,label=label)\n",
    "    \n",
    "    # plt.fill_between(range(1,len(q_het[0])+1),y1=q_het[0],y2=q_het[-1],\n",
    "    #     color=cl[i],alpha=.2,edgecolor=\"none\")\n",
    "    # plt.fill_between(range(1,len(q_hom[0])+1),y1=q_hom[0],y2=q_hom[-1],\n",
    "    #     color=clhom[i],alpha=.2,edgecolor=\"none\")\n",
    "\n",
    "plt.legend(title='$s$',ncol=1,loc='upper left',handlelength=.5)\n",
    "plt.yscale('log')\n",
    "lim=(1e-8*0.95,1e-4/0.95);plt.ylim(lim)\n",
    "lim=(+.5,30.5);plt.xlim(lim)\n",
    "plt.xticks([1,5,10,15,20,25,30])\n",
    "plt.yticks([1e-04,1e-05,1e-06,1e-07,1e-08])\n",
    "plt.xlabel('Number of transfer', fontsize = 8.0)\n",
    "\n",
    "# ylabel_het = TextArea(\"Heterozygote frequency \", textprops=dict(color=colorgreen, size=8.0,rotation=90,ha='left',va='bottom'))\n",
    "# ylabel_hom = TextArea(\"Homozygote frequency \", textprops=dict(color=colorred, alpha=alphared, size=8.0,rotation=90,ha='left',va='bottom'))\n",
    "# ybox = HPacker(children=[ylabel_het, ylabel_hom],align=\"center\", pad=0, sep=2)\n",
    "# anchored_ybox = AnchoredOffsetbox(loc=8, child=ybox, pad=0., frameon=False, bbox_to_anchor=(-0.24, 0.0), bbox_transform=ax.transAxes, borderpad=0.)\n",
    "# ax.add_artist(anchored_ybox)\n",
    "plt.ylabel(\"Homozygote frequency\")\n",
    "\n",
    "plt.savefig('../figures-plots/plot_SI-neutral-s.pdf')\n"
   ]
  }
 ],
 "metadata": {
  "kernelspec": {
   "display_name": "bottlenecks2023",
   "language": "python",
   "name": "python3"
  },
  "language_info": {
   "codemirror_mode": {
    "name": "ipython",
    "version": 3
   },
   "file_extension": ".py",
   "mimetype": "text/x-python",
   "name": "python",
   "nbconvert_exporter": "python",
   "pygments_lexer": "ipython3",
   "version": "3.10.9"
  },
  "orig_nbformat": 4,
  "vscode": {
   "interpreter": {
    "hash": "8524e131304e0ab953ec9929e72ddd032238c44a3b7b3a097532e55136b03fee"
   }
  }
 },
 "nbformat": 4,
 "nbformat_minor": 2
}
