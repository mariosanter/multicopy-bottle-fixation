{
 "cells": [
  {
   "attachments": {},
   "cell_type": "markdown",
   "metadata": {},
   "source": [
    "# Model fitting"
   ]
  },
  {
   "attachments": {},
   "cell_type": "markdown",
   "metadata": {},
   "source": [
    "This notebook is used for fitting the experimental data to the mathematical model to determine the selection coefficient for the chromosome experiment."
   ]
  },
  {
   "attachments": {},
   "cell_type": "markdown",
   "metadata": {},
   "source": [
    "## Import libraries, load data, and get host frequencies"
   ]
  },
  {
   "cell_type": "code",
   "execution_count": null,
   "metadata": {},
   "outputs": [],
   "source": [
    "import module,plot\n",
    "import lmfit\n",
    "from lmfit import Minimizer, Parameters\n",
    "import pandas as pd\n",
    "import numpy as np\n",
    "import matplotlib.pyplot as plt\n",
    "import scipy"
   ]
  },
  {
   "attachments": {},
   "cell_type": "markdown",
   "metadata": {},
   "source": [
    "Load experimental data from file"
   ]
  },
  {
   "cell_type": "code",
   "execution_count": null,
   "metadata": {},
   "outputs": [],
   "source": [
    "dataset = pd.read_excel(\"expdata/chrom-exp.xlsx\", header=1)\n",
    "dataset.head()"
   ]
  },
  {
   "attachments": {},
   "cell_type": "markdown",
   "metadata": {},
   "source": [
    "Get mean(std) of host frequencies data from dataset (ignore zeros)"
   ]
  },
  {
   "cell_type": "code",
   "execution_count": null,
   "metadata": {},
   "outputs": [],
   "source": [
    "data=[]\n",
    "for i in range(1,6+1):\n",
    "    data.append(\n",
    "        dataset.loc[(dataset['replicate']==2) * (dataset['replicate.n']==i),['host_pop','total_pop']].to_numpy()[1:30+1])\n",
    "data=np.array(data)\n",
    "hostfreq=np.log10(data[:,:,0]/data[:,:,1])\n",
    "hostfreq_mean=np.nanmean(hostfreq,axis=0)\n",
    "hostfreq_std=np.std(hostfreq,axis=0)\n",
    "print('Geometric mean and standard deviation of host cell frequencies for all days:')\n",
    "print(hostfreq_mean)\n",
    "print(hostfreq_std)\n"
   ]
  },
  {
   "cell_type": "code",
   "execution_count": null,
   "metadata": {},
   "outputs": [],
   "source": [
    "plt.plot(range(len(hostfreq[0])),hostfreq.T)"
   ]
  },
  {
   "cell_type": "code",
   "execution_count": null,
   "metadata": {},
   "outputs": [],
   "source": [
    "Nc=pd.read_csv('expdata/Nc_chromosome.csv', index_col=0).squeeze()\n",
    "print('Carrying capacities loaded:')\n",
    "\n",
    "Nc"
   ]
  },
  {
   "attachments": {},
   "cell_type": "markdown",
   "metadata": {},
   "source": [
    "## Fitting"
   ]
  },
  {
   "cell_type": "code",
   "execution_count": null,
   "metadata": {},
   "outputs": [],
   "source": [
    "s_residual_array = []\n",
    "\n",
    "def fcn2min(params,x,hostfreq_mean,hostfreq_std):\n",
    "    s=params['s']\n",
    "    print(s)\n",
    "\n",
    "    sim=module.stochbottleSim(rwt=1-s,n=1,Nc=Nc[1:].values.tolist(),f=10**((-4)),\n",
    "    D=30,b=0.01)\n",
    "    ts_eod=sim[1]\n",
    "    host_freq_eod=np.log10(np.sum(ts_eod[:,1:],axis=-1)/np.sum(ts_eod,axis=-1))\n",
    "    dev=host_freq_eod-hostfreq_mean\n",
    "    eps=hostfreq_std\n",
    "    res=dev/eps\n",
    "\n",
    "    s_residual_array.append([s.value,np.sum(np.square(res))])\n",
    "    \n",
    "    figax=plt.subplots()\n",
    "    # lim=(1e-6,1e-0); plt.ylim(*lim); \n",
    "    # plt.yscale('log')\n",
    "    plt.errorbar(x=range(1,len(hostfreq_mean)+1),y=hostfreq_mean,yerr=eps, label='experiment',\n",
    "    color='black', alpha=1.)\n",
    "    plt.errorbar(x=range(1,len(host_freq_eod)+1),y=host_freq_eod)\n",
    "\n",
    "    plt.legend()\n",
    "    plt.show()\n",
    "    # print('host_freq_eod (sim)',host_freq_eod)\n",
    "    # print('hostfreq_mean (exp)',hostfreq_mean)\n",
    "    print('dev',dev)\n",
    "    print('eps',eps)\n",
    "    print('res',res)\n",
    "    print('chisquared',np.sum(np.square(res)),'\\n\\n')\n",
    "    print('reduced chisquared',np.sum(np.square(res))/(30-1),'\\n\\n')\n",
    "    print('regression standard error',np.sqrt(np.sum(np.square(res))/(30-1)),'\\n\\n')\n",
    "    return res\n",
    "\n",
    "x=np.array(range(0,len(hostfreq_mean)))\n",
    "\n",
    "ls=np.linspace(0.12,0.16,17)\n",
    "for s in ls:\n",
    "    print(s)\n",
    "    params=Parameters()\n",
    "    params.add('s',value=s)\n",
    "    fcn2min(params,x,hostfreq_mean,hostfreq_std)\n",
    "\n",
    "params=Parameters()\n",
    "# params.add('s',value=0.099,min=0.05,max=0.20)\n",
    "params.add('s',value=0.099,min=0.00,max=1.00)\n",
    "\n",
    "x=np.array(range(0,len(hostfreq_mean)))\n",
    "minner=Minimizer(fcn2min,params,fcn_args=(x,hostfreq_mean,hostfreq_std))\n",
    "result=minner.minimize(method='least_squares') #\n",
    "print(minner)\n",
    "\n",
    "# result s = 0.1359 ~= 0.14\n",
    "result"
   ]
  },
  {
   "cell_type": "code",
   "execution_count": null,
   "metadata": {},
   "outputs": [],
   "source": [
    "result"
   ]
  },
  {
   "cell_type": "code",
   "execution_count": null,
   "metadata": {},
   "outputs": [],
   "source": [
    "plt.figure(figsize=(2.95,2.95*2/3))\n",
    "plt.rcParams.update({'font.size': 8})\n",
    "\n",
    "plt.plot([s_residual_array[i][0] for i in range(len(s_residual_array))], # x-values\n",
    "         [(s_residual_array[i][1]/29)**0.5  for i in range(len(s_residual_array))], # y-values\n",
    "         linestyle='none', marker='x', color='black',markersize=2.5\n",
    "        )\n",
    "\n",
    "# plt.yscale('log')\n",
    "ylim=plt.gca().get_ylim(); print('auto-set ylim:',ylim)\n",
    "plt.xlim(0.045,0.175)\n",
    "ylim=(-4/20,4+4/20)\n",
    "plt.ylim(*ylim)\n",
    "\n",
    "plt.plot(np.ones(2)*0.0984,ylim)\n",
    "sem=0.030453531/np.sqrt(6)\n",
    "plt.fill_betweenx(ylim, np.ones(2)*0.0984-sem*1.96, np.ones(2)*0.0984+sem*1.96, alpha=0.25,linewidth=0)\n",
    "\n",
    "\n",
    "plt.plot(np.ones(2)*result.params['s'].value, ylim, color='black'); \n",
    "\n",
    "plt.fill_betweenx(ylim, \n",
    "                  np.ones(2)*result.params['s'].value-result.params['s'].stderr*1.96, \n",
    "                  np.ones(2)*result.params['s'].value+result.params['s'].stderr*1.96, \n",
    "                  alpha=0.25,color='black',linewidth=0)\n",
    "\n",
    "\n",
    "plt.xlabel('Strength of selection $s$')\n",
    "plt.ylabel('Regression standard error')\n",
    "plt.text(-0.25, 1.06, s='B', transform=plt.gca().transAxes, \n",
    "            size=11,weight='bold')\n",
    "plt.title('Monoploid replicon')\n",
    "plt.tight_layout()\n",
    "plt.savefig('../figures-plots/plot_SI-fit_B.pdf')"
   ]
  }
 ],
 "metadata": {
  "kernelspec": {
   "display_name": "bottlenecks2023",
   "language": "python",
   "name": "python3"
  },
  "language_info": {
   "codemirror_mode": {
    "name": "ipython",
    "version": 3
   },
   "file_extension": ".py",
   "mimetype": "text/x-python",
   "name": "python",
   "nbconvert_exporter": "python",
   "pygments_lexer": "ipython3",
   "version": "3.10.9"
  },
  "orig_nbformat": 4
 },
 "nbformat": 4,
 "nbformat_minor": 2
}
