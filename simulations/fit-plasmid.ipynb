{
 "cells": [
  {
   "attachments": {},
   "cell_type": "markdown",
   "metadata": {},
   "source": [
    "# Model fitting"
   ]
  },
  {
   "attachments": {},
   "cell_type": "markdown",
   "metadata": {},
   "source": [
    "This notebook is used for fitting the experimental data to the mathematical model to determine the selection coefficient for both the plasmid experiment"
   ]
  },
  {
   "attachments": {},
   "cell_type": "markdown",
   "metadata": {},
   "source": [
    "## Import libraries, load data, and get host frequencies"
   ]
  },
  {
   "cell_type": "code",
   "execution_count": null,
   "metadata": {},
   "outputs": [],
   "source": [
    "import module,plot,data\n",
    "import lmfit\n",
    "from lmfit import Minimizer, Parameters\n",
    "import pandas as pd\n",
    "import numpy as np\n",
    "import matplotlib.pyplot as plt\n",
    "import scipy"
   ]
  },
  {
   "attachments": {},
   "cell_type": "markdown",
   "metadata": {},
   "source": [
    "Load experimental data from file"
   ]
  },
  {
   "cell_type": "code",
   "execution_count": null,
   "metadata": {},
   "outputs": [],
   "source": [
    "dataset = pd.read_excel(\"expdata/plasmid-exp.xlsx\", header=0)\n",
    "dataset.head()"
   ]
  },
  {
   "attachments": {},
   "cell_type": "markdown",
   "metadata": {},
   "source": [
    "Get mean(std) of host frequencies data from dataset (ignore zeros)"
   ]
  },
  {
   "cell_type": "code",
   "execution_count": null,
   "metadata": {},
   "outputs": [],
   "source": [
    "# get minimum day number for which data is available for all replicates.n\n",
    "data_replicate1_days = [dataset.loc[(dataset['replicate']==2) \n",
    "                    * (dataset['replicate.n']==replicate ) \n",
    "                    ,['t']]\n",
    "    for replicate in range(1,6+1)]\n",
    "Dmax= min([max(data_replicate1_days[i]['t']) for i in range(0,6)])\n",
    "# get host frequency data and store to array\n",
    "hostfreq_data = [[[dataset.loc[(dataset['replicate']==2) \n",
    "                    * (dataset['replicate.n']==replicate ) \n",
    "                    * (dataset['t']==t ) \n",
    "                    ,['host_freq']]][0].to_numpy()\n",
    "    for t in range(1,Dmax+1)]\n",
    "    for replicate in range(1,6+1)]\n",
    "hostfreq_data=np.array(hostfreq_data)[:,:,0,0]\n",
    "hostfreq_data_nonzero=np.where(hostfreq_data!=0,hostfreq_data,np.nan)\n",
    "\n",
    "hostfreq_data_nonzero=np.log10(hostfreq_data_nonzero)\n",
    "hostfreq_mean=np.nanmean(hostfreq_data_nonzero,axis=0)\n",
    "hostfreq_std=np.nanstd(hostfreq_data_nonzero,axis=0)\n",
    "# get heterozygous frequency data and store to array\n",
    "hetfreq_data = [[[dataset.loc[(dataset['replicate']==2) \n",
    "                    * (dataset['replicate.n']==replicate ) \n",
    "                    * (dataset['t']==t ) \n",
    "                    ,['hetero_freq']]][0].to_numpy()\n",
    "    for t in range(1,Dmax+1)]\n",
    "    for replicate in range(1,6+1)]\n",
    "hetfreq_data=np.array(hetfreq_data)[:,:,0,0]\n",
    "hetfreq_data_nonzero=np.where(hetfreq_data!=0,hetfreq_data,np.nan)\n",
    "hetfreq_data_nonzero\n",
    "hetfreq_mean=np.nanmean(hetfreq_data_nonzero,axis=0)\n",
    "hetfreq_std=np.nanstd(hetfreq_data_nonzero,axis=0)\n",
    "\n",
    "\n",
    "print('Mean(std) of host frequencies (over days 1..Dmax='+str(Dmax)+'):')\n",
    "print(hostfreq_mean)\n",
    "print('(',hostfreq_std,')')\n",
    "\n",
    "print('Mean(std) of heterozygous frequencies (over days 1..Dmax='+str(Dmax)+'):')\n",
    "print(hetfreq_mean)\n",
    "print('(',hetfreq_std,')')\n",
    "\n"
   ]
  },
  {
   "cell_type": "code",
   "execution_count": null,
   "metadata": {},
   "outputs": [],
   "source": [
    "Nc=pd.read_csv('expdata/Nc_plasmid.csv', index_col=0).squeeze()\n",
    "print('Carrying capacities loaded:')\n",
    "\n",
    "Nc"
   ]
  },
  {
   "attachments": {},
   "cell_type": "markdown",
   "metadata": {},
   "source": [
    "## Fitting"
   ]
  },
  {
   "cell_type": "code",
   "execution_count": null,
   "metadata": {},
   "outputs": [],
   "source": [
    "# execution time ca. 3min \n",
    "# s_residual_array = []\n",
    "\n",
    "def fcn2min(params,x,hostfreq_mean,hostfreq_std = None):\n",
    "    s=params['s']\n",
    "    print(s)\n",
    "\n",
    "    sim=module.stochbottleSim(rwt=1-s,n=15,Nc=Nc[1:].values.tolist(),f=10**((-4)),\n",
    "    D=30,b=0.01)\n",
    "    ts_eod=sim[1]\n",
    "    host_freq_eod=np.log10(np.sum(ts_eod[:,1:],axis=-1)/np.sum(ts_eod,axis=-1))\n",
    "    \n",
    "    dev=host_freq_eod-hostfreq_mean\n",
    "    eps=hostfreq_std\n",
    "    res=dev/eps\n",
    "    \n",
    "    s_residual_array.append([s.value,np.sum(np.square(res)),host_freq_eod])\n",
    "\n",
    "    figax=plt.subplots()\n",
    "    # lim=(1e-6,1e-0); plt.ylim(*lim);\n",
    "    plt.errorbar(x=range(1,len(hostfreq_mean)+1),y=hostfreq_mean,yerr=hostfreq_std,\n",
    "                 label='experiment', color='black', alpha=1.)\n",
    "    plt.errorbar(x=range(1,len(host_freq_eod)+1),y=host_freq_eod)\n",
    "\n",
    "    plt.legend()\n",
    "    plt.show()\n",
    "    # print('host_freq_eod (sim)',host_freq_eod)\n",
    "    # print('hostfreq_mean (exp)',hostfreq_mean)\n",
    "    print('dev',dev)\n",
    "    print('eps',eps)\n",
    "    print('res',res)\n",
    "    print('chisquared',np.sum(np.square(res)),'\\n\\n')\n",
    "    print('reduced chisquared',np.sum(np.square(res))/(30-1),'\\n\\n')\n",
    "    print('regression standard error',np.sqrt(np.sum(np.square(res))/(30-1)),'\\n\\n')\n",
    "     \n",
    "    print(hostfreq_std)\n",
    "    return res\n",
    "    # if hostfreq_std.any(None):\n",
    "    #     return dev\n",
    "    # else:\n",
    "    #     return dev / np.log10(hostfreq_std)\n",
    "\n",
    "x=np.array(range(0,len(hostfreq_mean)))\n",
    "\n",
    "sspace=np.concatenate((np.linspace(0.05,0.20,16),np.linspace(0.08,0.09,11)))\n",
    "sspace=np.linspace(0.06,0.11,21)\n",
    "print(sspace);print(len(sspace))\n",
    "for s in sspace:\n",
    "    print(s)\n",
    "    params=Parameters()\n",
    "    params.add('s',value=s)\n",
    "    fcn2min(params,x,hostfreq_mean,hostfreq_std)\n",
    "\n",
    "params=Parameters()\n",
    "params.add('s',value=0.1,min=0.00,max=1.0)\n",
    "minner=Minimizer(fcn2min,params,fcn_args=(x,hostfreq_mean,hostfreq_std)) #hostfreq_std\n",
    "result=minner.minimize(method='least_squares') \n",
    "result\n"
   ]
  },
  {
   "attachments": {},
   "cell_type": "markdown",
   "metadata": {},
   "source": [
    "## Result"
   ]
  },
  {
   "cell_type": "code",
   "execution_count": null,
   "metadata": {},
   "outputs": [],
   "source": [
    "result"
   ]
  },
  {
   "cell_type": "code",
   "execution_count": null,
   "metadata": {},
   "outputs": [],
   "source": [
    "plt.figure(figsize=(2.95,2.95*2/3))\n",
    "plt.rcParams.update({'font.size': 8})\n",
    "\n",
    "plt.plot([s_residual_array[i][0] for i in range(0,len(s_residual_array))], # x-values\n",
    "         [(s_residual_array[i][1]/29)**0.5 for i in range(0,len(s_residual_array))], # y-values\n",
    "         linestyle='none', marker='x', color='black',markersize=2.5\n",
    "        )\n",
    "\n",
    "# plt.yscale('log')\n",
    "ylim=plt.gca().get_ylim(); print('auto-set ylim:',ylim)\n",
    "plt.xlim(0.045,0.175)\n",
    "# plt.xlim(0.075,0.115)\n",
    "ylim=(-4/20,4+4/20)\n",
    "ylim=(-4/20,4+4/20)\n",
    "plt.ylim(*ylim)\n",
    "\n",
    "#exp data\n",
    "plt.plot(np.ones(2)*0.118471807,ylim)\n",
    "sem=0.041506276/np.sqrt(6)\n",
    "plt.fill_betweenx(ylim, np.ones(2)*0.118471807-sem*1.96, np.ones(2)*0.118471807+sem*1.96, alpha=0.25,linewidth=0)\n",
    "\n",
    "\n",
    "# ylim=(-0.05,3.05) # manually set ylim\n",
    "plt.plot(np.ones(2)*result.params['s'].value, ylim, color='black'); plt.ylim(ylim)\n",
    "plt.fill_betweenx(ylim, \n",
    "                  np.ones(2)*result.params['s'].value-result.params['s'].stderr*1.96, \n",
    "                  np.ones(2)*result.params['s'].value+result.params['s'].stderr*1.96, \n",
    "                  alpha=0.25,color='black',linewidth=0)\n",
    "\n",
    "plt.xlabel('Strength of selection $s$')\n",
    "plt.ylabel('Regression standard error')\n",
    "plt.text(-0.25, 1.06, s='A', transform=plt.gca().transAxes, \n",
    "                     size=11,weight='bold')\n",
    "plt.title('Polyploid replicon')\n",
    "plt.tight_layout()\n",
    "plt.savefig('../figures-plots/plot_SI-fit_A.pdf')"
   ]
  },
  {
   "cell_type": "code",
   "execution_count": null,
   "metadata": {},
   "outputs": [],
   "source": [
    "s_residual_array1=np.array(s_residual_array)\n",
    "plt.plot(s_residual_array1[:,1]-s_residual_array1[-1,1])\n",
    "plt.ylim(-.5,10)"
   ]
  }
 ],
 "metadata": {
  "kernelspec": {
   "display_name": "bottlenecks2023",
   "language": "python",
   "name": "python3"
  },
  "language_info": {
   "codemirror_mode": {
    "name": "ipython",
    "version": 3
   },
   "file_extension": ".py",
   "mimetype": "text/x-python",
   "name": "python",
   "nbconvert_exporter": "python",
   "pygments_lexer": "ipython3",
   "version": "3.10.9"
  },
  "orig_nbformat": 4
 },
 "nbformat": 4,
 "nbformat_minor": 2
}
