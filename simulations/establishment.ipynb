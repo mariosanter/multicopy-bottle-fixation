{
 "cells": [
  {
   "attachments": {},
   "cell_type": "markdown",
   "metadata": {},
   "source": [
    "# Establishment probabilities"
   ]
  },
  {
   "attachments": {},
   "cell_type": "markdown",
   "metadata": {},
   "source": [
    "This notebook can be used to \n",
    "1. create input files for simulations to compute establishment probabilities\n",
    "2. analyze simulation data and create result plots"
   ]
  },
  {
   "attachments": {},
   "cell_type": "markdown",
   "metadata": {},
   "source": [
    "## Import libraries and set global settings"
   ]
  },
  {
   "cell_type": "code",
   "execution_count": null,
   "metadata": {},
   "outputs": [],
   "source": [
    "import numpy as np\n",
    "import plot\n",
    "import module\n",
    "import pickle,math\n",
    "import matplotlib\n",
    "import matplotlib.pyplot as plt\n",
    "import itertools\n",
    "import re\n",
    "import pandas as pd\n",
    "import json\n",
    "import scipy\n",
    "import seaborn as sns\n",
    "from mpl_toolkits.axes_grid1 import make_axes_locatable\n",
    "import string\n",
    "from ipywidgets import IntProgress\n",
    "from IPython.display import display\n"
   ]
  },
  {
   "cell_type": "code",
   "execution_count": null,
   "metadata": {},
   "outputs": [],
   "source": [
    "font = {'family' : 'Arial','size'   : 6}\n",
    "matplotlib.rc('font', **font)"
   ]
  },
  {
   "attachments": {},
   "cell_type": "markdown",
   "metadata": {},
   "source": [
    "## Simulation\n"
   ]
  },
  {
   "attachments": {},
   "cell_type": "markdown",
   "metadata": {},
   "source": [
    "Set simulation parameters and create simulation input files"
   ]
  },
  {
   "cell_type": "code",
   "execution_count": null,
   "metadata": {},
   "outputs": [],
   "source": [
    "# excecution time: ca 6 min (stores 76k files on hard disk)\n",
    "b_list=np.array([  0.01, 0.001 ])\n",
    "f_list=np.array([  10**(-7) ])\n",
    "n_list=np.array(range(1,20+1))\n",
    "s_list=np.linspace(0.05,0.50,19)\n",
    "seed_list=np.array(range(1000))\n",
    "\n",
    "def parset(par):\n",
    "    b,f,n,s,seed=par\n",
    "    return {\"b\":float(b),\"f\":float(f),\"n\":int(n),\"s\":float(s),\"seed\":int(seed),\n",
    "            \"file\":\"establishment_output/\"+re.sub('[^a-zA-Z0-9_]','_',\n",
    "                                '_'.join(map(str,\n",
    "                                (\"b\",b,\"f\",f,\"s\", \"%.3f\" % s,\"n\",n,\"seed\",seed)))\n",
    "        )}\n",
    "\n",
    "l=list(itertools.product(b_list,f_list,n_list, s_list, seed_list))\n",
    "parsets=list(map(parset,l))\n",
    "print(len(parsets),' parameter combinations defined')\n",
    "\n",
    "print('example parameter set:', parsets[0])\n",
    "\n",
    "# write parametersets to input files\n",
    "f = IntProgress(min=0, max=len(parsets)/100) # instantiate the bar\n",
    "display(f);\n",
    "\n",
    "for i in range(len(parsets)):\n",
    "    with open( \"establishment_input/inputfile_\"+str(i), 'w') as file:\n",
    "        file.write(json.dumps( parsets[i]))\n",
    "    if not i%100:   \n",
    "        f.value+=1\n",
    "    \n",
    "print(\"Input files saved. \")\n",
    "\n"
   ]
  },
  {
   "attachments": {},
   "cell_type": "markdown",
   "metadata": {},
   "source": [
    "Run simulations. Needs a running ipp cluster."
   ]
  },
  {
   "cell_type": "code",
   "execution_count": null,
   "metadata": {},
   "outputs": [],
   "source": [
    "if do_sim:\n",
    "\n",
    "    # initialize ipp cluster for simulations\n",
    "    try:\n",
    "        with open('profile.temp') as f:\n",
    "            profile = f.readlines()\n",
    "        profile=profile[0].rstrip(\"\\n\")\n",
    "\n",
    "    except:\n",
    "        print(\"No profile file found. Using standard profile.\")\n",
    "        profile=None\n",
    "    r=ipp.Client(profile=profile)\n",
    "\n",
    "    %px import src.module\n",
    "    lv=r.load_balanced_view()\n",
    "\n",
    "    r[:].push(dict(s_list=s_list))\n",
    "    # run simulation for D days\n",
    "\n",
    "    lv.map_sync(lambda p: src.module.stochbottleSim(\n",
    "        n=p['n'],f=p['f'],rwt=1.-p['s'],b=p['b'],seed=p['seed'],file=p['file'],establishment=True)\n",
    "        if p['seed']>=100\n",
    "        else None\n",
    "    ,\n",
    "    parsets[200:201]\n",
    "    # ptest\n",
    "    )\n"
   ]
  },
  {
   "attachments": {},
   "cell_type": "markdown",
   "metadata": {},
   "source": [
    "## Results"
   ]
  },
  {
   "cell_type": "code",
   "execution_count": null,
   "metadata": {},
   "outputs": [],
   "source": [
    "# # uncomment for analyzing simulation data from output files\n",
    "\n",
    "# est_array=np.zeros((len(b_list),len(f_list),len(n_list),len(s_list),len(seed_list)))\n",
    "# est_array[:]=np.nan\n",
    "# fnf_counter=0\n",
    "# for p in parsets:\n",
    "#     if p['seed']==0:\n",
    "#         print('%i %.3f' % (p['n'],p['s']),end=', ')\n",
    "#     try:\n",
    "#         sim=pickle.load(open(p['file'],'rb'))\n",
    "        \n",
    "#         est=sim[1][-1][-1]!=0   # check if, at end of days [0], \n",
    "#                                 # at the last day [-1] \n",
    "#                                 # the homozygotes [-1] are still present\n",
    "#                                 # (establishment)\n",
    "#         est_array[tuple(whereisp(p))]=est\n",
    "#     except:\n",
    "#         print('no file found ', p['file'])\n",
    "#         fnf_counter+=1\n",
    "# print(fnf_counter,' files not found')\n",
    "\n",
    "# pickle.dump(est_array,open('establishment_output/est.dat','wb'))\n",
    "\n",
    "est_array=pickle.load(open('establishment_output/est.dat','rb'))"
   ]
  },
  {
   "cell_type": "code",
   "execution_count": null,
   "metadata": {},
   "outputs": [],
   "source": [
    "est_array1=np.sum(est_array,axis=-1)/np.shape(est_array)[-1]\n",
    "\n",
    "fig,ax = plt.subplots(nrows=1,ncols=2,figsize=(16/2.54,6.5/2.54))\n",
    "fig.subplots_adjust(left=0.15, bottom=None, right=None, top=None, wspace=0.1, hspace=None)\n",
    "\n",
    "\n",
    "for bi, b in enumerate(b_list):\n",
    "    Z=np.flip(est_array1[bi,0].T,axis=0)[:,:]\n",
    "    ax1=ax[bi].imshow(Z, vmax=1.,vmin=0.,cmap=plt.get_cmap('plasma'))\n",
    "    N,S=np.meshgrid(n_list,s_list)\n",
    "    ax[bi].contour(range(len(n_list)),range(len(s_list)),Z,levels=[0.50,1.0],linestyles=['dashed','dashed'],linewidths=[1.,1.])\n",
    "    ax[bi].set_title('$b=%g$' % b)\n",
    "    xticks=np.array([1,5,10,15,20])\n",
    "    ax[bi].set_xticks(range(len(n_list)), minor=True)\n",
    "    ax[bi].set_xticks( xticks-1, minor=False)\n",
    "    ax[bi].set_xticklabels(['%i' % n for n in  xticks])\n",
    "    yticks=np.array([0.05,0.10,0.20,0.30,0.40,0.50])\n",
    "    # ax[bi].set_yticks(range(len(s_list)), minor=True)\n",
    "    ytickspositions=np.array([np.argwhere(yt==s_list)[0] for yt in yticks ])[:,0]\n",
    "    ax[bi].set_yticks( -ytickspositions+len(s_list)-1, minor=False)\n",
    "    ax[bi].set_xlabel('Replicon copy number $n_\\mathrm{rc}$')\n",
    "    if bi==0:\n",
    "        ax[bi].set_yticklabels(['%.2f' % s for s in  yticks])\n",
    "        ax[bi].set_ylabel('Strength of selection $s$')\n",
    "        \n",
    "    else:\n",
    "        ax[bi].set_yticklabels([])\n",
    "        ax[bi].tick_params(length=0,axis='y')\n",
    "\n",
    "    # ax[bi].set_yticks(range(len(s_list)))\n",
    "    # ax[bi].set_yticklabels(['%.2f'%s for s in np.flip(s_list)],size=8)\n",
    "    ax[bi].grid(linewidth=.25)\n",
    "    # In [11]: grid(b=True, which='major', color='b', linestyle='-')\n",
    "    ax[bi].text(-0.05, 1.05, string.ascii_uppercase[bi], transform=ax[bi].transAxes, \n",
    "        size=8, weight='bold')\n",
    "\n",
    "\n",
    "fig.subplots_adjust(right=.79)\n",
    "cbar_ax = fig.add_axes([.82, ax[0].get_position().y0, 0.025, ax[0].get_position().y1-ax[0].get_position().y0])\n",
    "cb=fig.colorbar(ax1, cax=cbar_ax,fraction=0.02)\n",
    "cb.set_label(label='Establishment probability $p_\\mathrm{est}$', rotation=270, labelpad=10)\n",
    "\n",
    "fig.savefig('../figures-plots/final-figures-main/fig-4.pdf')"
   ]
  }
 ],
 "metadata": {
  "kernelspec": {
   "display_name": "bottlenecks2023",
   "language": "python",
   "name": "python3"
  },
  "language_info": {
   "codemirror_mode": {
    "name": "ipython",
    "version": 3
   },
   "file_extension": ".py",
   "mimetype": "text/x-python",
   "name": "python",
   "nbconvert_exporter": "python",
   "pygments_lexer": "ipython3",
   "version": "3.10.9"
  },
  "orig_nbformat": 4
 },
 "nbformat": 4,
 "nbformat_minor": 2
}
